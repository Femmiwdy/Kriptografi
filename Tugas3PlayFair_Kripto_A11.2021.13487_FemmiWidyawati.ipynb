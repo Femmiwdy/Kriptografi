{
  "nbformat": 4,
  "nbformat_minor": 0,
  "metadata": {
    "colab": {
      "provenance": [],
      "include_colab_link": true
    },
    "kernelspec": {
      "name": "python3",
      "display_name": "Python 3"
    },
    "language_info": {
      "name": "python"
    }
  },
  "cells": [
    {
      "cell_type": "markdown",
      "metadata": {
        "id": "view-in-github",
        "colab_type": "text"
      },
      "source": [
        "<a href=\"https://colab.research.google.com/github/Femmiwdy/Kriptografi/blob/main/Tugas3PlayFair_Kripto_A11.2021.13487_FemmiWidyawati.ipynb\" target=\"_parent\"><img src=\"https://colab.research.google.com/assets/colab-badge.svg\" alt=\"Open In Colab\"/></a>"
      ]
    },
    {
      "cell_type": "markdown",
      "source": [
        "Nama : Femmi Widyawati     \n",
        "NIM : A11.2021.13487                         \n",
        "Kelas : A11.4329                                                                                                                         \n",
        "Mata Kuliah : Kriptografi\n"
      ],
      "metadata": {
        "id": "jEHLcYbi8Iiw"
      }
    },
    {
      "cell_type": "markdown",
      "source": [
        "### **1. Pertama, huruf 'j' diganti dengan 'i' karena dalam Playfair Cipher, 'j' dan 'i' dianggap sebagai huruf yang sama. Kemudian, spasi dihapus dari teks dan seluruh huruf diubah menjadi huruf kecil.**\n",
        "\n",
        "\n",
        "\n",
        "### **2.  jika ada dua huruf yang sama dalam satu pasangan atau jika panjang terakhir ganjil, maka fungsi ini menambahkan \"z\" di antara mereka.**"
      ],
      "metadata": {
        "id": "hOSwTNIg8Wkp"
      }
    },
    {
      "cell_type": "code",
      "source": [
        "def prepare_text(plain_text):\n",
        "    # Menghilangkan spasi, mengganti 'j' dengan 'i',\n",
        "    plain_text = plain_text.replace(\" \", \"\")\n",
        "    plain_text = plain_text.replace(\"j\", \"i\")\n",
        "    i = 0\n",
        "    while i < len(plain_text) - 1:\n",
        "        # Mengganti jika huruf sampingan yang sama dengan 'z'\n",
        "        if plain_text[i] == plain_text[i + 1]:\n",
        "            plain_text = plain_text[:i + 1] + \"z\" + plain_text[i + 1:]\n",
        "        i += 2 #lanjut ke pasangan berikutnya\n",
        "    # Jika panjang plaintext ganjil, menambahkan 'z' pada akhir pasangan\n",
        "    if len(plain_text) % 2 == 1:\n",
        "        plain_text += \"z\"\n",
        "    return plain_text"
      ],
      "metadata": {
        "id": "-wHcAsEd8UWI"
      },
      "execution_count": 1,
      "outputs": []
    },
    {
      "cell_type": "markdown",
      "source": [
        "### **3. Membuat fungsi generate_matrix(key) untuk membuat matriks 5x5 yang akan digunakan berdasarkan kunci**"
      ],
      "metadata": {
        "id": "4KalcSQv_N4m"
      }
    },
    {
      "cell_type": "code",
      "source": [
        "def generate_matrix(key):\n",
        "    # Membuat matriks 5x5 dari kunci\n",
        "    alphabet = \"abcdefghiklmnopqrstuvwxyz\"  # Menghilangkan 'j'\n",
        "    key = key.replace(\" \", \"\")  # Hapus spasi pada kunci\n",
        "    key = key.lower() #diubah jadi huruf kecil\n",
        "    matrix = [] #menyimpan matriks\n",
        "\n",
        "    #iterasi karakter dalam kunci\n",
        "    for char in key:\n",
        "      #jika char blm ada dan char bagian dri alphabet\n",
        "        if char not in matrix and char in alphabet:\n",
        "          #maka dimasukkan ke dalam matriks\n",
        "            matrix.append(char)\n",
        "\n",
        "    #iterasi karakter dalam alphabet untuk memasukkan char yng tersisa\n",
        "    for char in alphabet:\n",
        "        if char not in matrix:\n",
        "            matrix.append(char)\n",
        "    #matriks 5x5\n",
        "    matrix = [matrix[i:i + 5] for i in range(0, len(matrix), 5)]\n",
        "    return matrix"
      ],
      "metadata": {
        "id": "HpTTIdvQ_b7t"
      },
      "execution_count": 2,
      "outputs": []
    },
    {
      "cell_type": "markdown",
      "source": [
        "### **4. Menampilkan matriks playfair dengan membuat fungsi display matrix**"
      ],
      "metadata": {
        "id": "yxMeBqvqCGQC"
      }
    },
    {
      "cell_type": "code",
      "source": [
        "def display_matrix(matrix):\n",
        "    # iterasi perbaris\n",
        "    for row in matrix:\n",
        "        print(\" \".join(row))"
      ],
      "metadata": {
        "id": "uRah31m2Cmf1"
      },
      "execution_count": 3,
      "outputs": []
    },
    {
      "cell_type": "markdown",
      "source": [
        "### **5. Membuat fungsi encrypt() untuk mengenkripsi plaintext dan matriks kunci yang dihasilkan dari kunci dengan aturan Playfair Chiper**\n",
        "- Jika pada baris yang sama akan menggeser 2 pasang karakter ke sebelah kanan\n",
        "- Jika pada kolom yang sama akan menggeser 2 pasang karakter ke bawah\n",
        "- Jika tidak pada kolom dan baris yang sama maka karakter akan ditukar"
      ],
      "metadata": {
        "id": "YnKuC6YhC3z1"
      }
    },
    {
      "cell_type": "code",
      "source": [
        "def encrypt(plain_text, matrix):\n",
        "    cipher_text = \"\" # untuk menyimpan teks chiper\n",
        "    i = 0\n",
        "    while i < len(plain_text):\n",
        "        char1, char2 = plain_text[i], plain_text[i + 1]\n",
        "        #menyimpan baris daan kolom yang awalnya didefinisikan bernilai none\n",
        "        row1, col1 = None, None\n",
        "        row2, col2 = None, None\n",
        "\n",
        "        #cek perbaris agar dapat menentukan char1 dan 2 dengan tepat\n",
        "        for row in matrix:\n",
        "            if char1 in row:\n",
        "                row1 = matrix.index(row)\n",
        "                col1 = row.index(char1)\n",
        "            if char2 in row:\n",
        "                row2 = matrix.index(row)\n",
        "                col2 = row.index(char2)\n",
        "\n",
        "        if row1 == row2: #apakah char di baris yang sama\n",
        "        #Menggeser kedua karakter ke kanan dalam baris yang sama\n",
        "            col1 = (col1 + 1) % 5\n",
        "            col2 = (col2 + 1) % 5\n",
        "        elif col1 == col2: #apakah char di kolom yang sama\n",
        "        #Menggeser kedua karakter ke bawah dalam kolom yang sama\n",
        "            row1 = (row1 + 1) % 5\n",
        "            row2 = (row2 + 1) % 5\n",
        "        else: #jika tidak di baris dan kolom yang sama\n",
        "        #menukar posisi\n",
        "            col1, col2 = col2, col1\n",
        "\n",
        "#memasukkan hasil karakter yang sudah terenkripsi\n",
        "        cipher_text += matrix[row1][col1] + matrix[row2][col2]\n",
        "        i += 2 #dilakukan untuk melanjutkan ke pasangan berikutnya\n",
        "    return cipher_text"
      ],
      "metadata": {
        "id": "EKbwzwmED8xB"
      },
      "execution_count": 4,
      "outputs": []
    },
    {
      "cell_type": "markdown",
      "source": [
        "### **6. Membuat input plainteks dan kunci nya**"
      ],
      "metadata": {
        "id": "Rd9lrVqVS4SS"
      }
    },
    {
      "cell_type": "code",
      "source": [
        "# Input plaintext dan kunci\n",
        "plain_text = input(\"Masukkan Plaintext: \")\n",
        "key = input(\"Masukkan Kunci: \")"
      ],
      "metadata": {
        "colab": {
          "base_uri": "https://localhost:8080/"
        },
        "id": "FV352Zrxch8h",
        "outputId": "d2d45317-bc07-4d85-e345-250ab055e638"
      },
      "execution_count": 5,
      "outputs": [
        {
          "name": "stdout",
          "output_type": "stream",
          "text": [
            "Masukkan Plaintext: femmi pergi\n",
            "Masukkan Kunci: kuliah\n"
          ]
        }
      ]
    },
    {
      "cell_type": "markdown",
      "source": [
        "### **7. Mengoutputkan plainteks yang telah disiapkan**"
      ],
      "metadata": {
        "id": "TCxey5xGc-qI"
      }
    },
    {
      "cell_type": "code",
      "source": [
        "# Menyiapkan teks plaintext\n",
        "prepared_text = prepare_text(plain_text)\n",
        "print(\"Plaintext setelah persiapan:\")\n",
        "print(prepared_text)\n"
      ],
      "metadata": {
        "colab": {
          "base_uri": "https://localhost:8080/"
        },
        "id": "1hZz9UehdY2O",
        "outputId": "5c72fd49-886c-46db-90b5-0b54935ff188"
      },
      "execution_count": 6,
      "outputs": [
        {
          "output_type": "stream",
          "name": "stdout",
          "text": [
            "Plaintext setelah persiapan:\n",
            "femzmipergiz\n"
          ]
        }
      ]
    },
    {
      "cell_type": "markdown",
      "source": [
        "### **8. Mengoutputkan matriks kunci**"
      ],
      "metadata": {
        "id": "1IS6iJxZdc0a"
      }
    },
    {
      "cell_type": "code",
      "source": [
        "# Membuat matriks kunci\n",
        "key_matrix = generate_matrix(key)\n",
        "print(\"Matriks Kunci:\")\n",
        "display_matrix(key_matrix)\n"
      ],
      "metadata": {
        "colab": {
          "base_uri": "https://localhost:8080/"
        },
        "id": "zfANOKd8dl0I",
        "outputId": "b0e9284f-d39e-437e-cf25-e5e57cf7adff"
      },
      "execution_count": 7,
      "outputs": [
        {
          "output_type": "stream",
          "name": "stdout",
          "text": [
            "Matriks Kunci:\n",
            "k u l i a\n",
            "h b c d e\n",
            "f g m n o\n",
            "p q r s t\n",
            "v w x y z\n"
          ]
        }
      ]
    },
    {
      "cell_type": "markdown",
      "source": [
        "### **9. Hasil Enkripsi**"
      ],
      "metadata": {
        "id": "_LMgG6oDfwrS"
      }
    },
    {
      "cell_type": "code",
      "source": [
        "# Melakukan enkripsi\n",
        "cipher_text = encrypt(prepared_text, key_matrix)\n",
        "print(\"Chiperteks:\")\n",
        "print(cipher_text)"
      ],
      "metadata": {
        "colab": {
          "base_uri": "https://localhost:8080/"
        },
        "id": "H6mrYY2Gfz2p",
        "outputId": "036a67f4-6761-4fe1-8970-510e5cfe0b98"
      },
      "execution_count": 8,
      "outputs": [
        {
          "output_type": "stream",
          "name": "stdout",
          "text": [
            "Chiperteks:\n",
            "ohoxnlthqmay\n"
          ]
        }
      ]
    },
    {
      "cell_type": "markdown",
      "source": [
        "### **9. Membuat fungsi dekripsi dengan mengganti huruf \"i\" ke \"j\", serta menghapus huruf \"z\"**"
      ],
      "metadata": {
        "id": "004CFbdzeDCs"
      }
    },
    {
      "cell_type": "code",
      "source": [
        "def decrypt(cipher_text, matrix):\n",
        "    plain_text = \"\"  # untuk menyimpan teks plaintext\n",
        "    i = 0\n",
        "    while i < len(cipher_text):\n",
        "        char1, char2 = cipher_text[i], cipher_text[i + 1]\n",
        "        # menyimpan baris dan kolom yang awalnya didefinisikan bernilai none\n",
        "        row1, col1 = None, None\n",
        "        row2, col2 = None, None\n",
        "\n",
        "        # cek per baris agar dapat menentukan char1 dan 2 dengan tepat\n",
        "        for row in matrix:\n",
        "            if char1 in row:\n",
        "                row1 = matrix.index(row)\n",
        "                col1 = row.index(char1)\n",
        "            if char2 in row:\n",
        "                row2 = matrix.index(row)\n",
        "                col2 = row.index(char2)\n",
        "\n",
        "        if row1 == row2:  # apakah char di baris yang sama\n",
        "            # Menggeser kedua karakter ke kiri dalam baris yang sama\n",
        "            col1 = (col1 - 1) % 5\n",
        "            col2 = (col2 - 1) % 5\n",
        "        elif col1 == col2:  # apakah char di kolom yang sama\n",
        "            # Menggeser kedua karakter ke atas dalam kolom yang sama\n",
        "            row1 = (row1 - 1) % 5\n",
        "            row2 = (row2 - 1) % 5\n",
        "        else:  # jika tidak di baris dan kolom yang sama\n",
        "            # menukar posisi\n",
        "            col1, col2 = col2, col1\n",
        "\n",
        "        # memasukkan hasil karakter yang sudah terdekripsi\n",
        "        plain_text += matrix[row1][col1] + matrix[row2][col2]\n",
        "        i += 2  # dilakukan untuk melanjutkan ke pasangan berikutnya\n",
        "\n",
        "    # Mengembalikan teks plaintext setelah mengganti 'j' kembali ke 'i' dan menghapus 'z'\n",
        "    plain_text = plain_text.replace(\"z\", \"\")\n",
        "    plain_text = plain_text.replace(\"i\", \"j\")\n",
        "\n",
        "    return plain_text\n",
        "\n",
        "# Menggunakan chiperteks yang telah dihasilkan sebelumnya\n",
        "cipher_text = cipher_text  # Isi dengan chiperteks yang ingin Anda dekripsi\n",
        "\n",
        "# Melakukan dekripsi\n",
        "decrypt_text = decrypt(cipher_text, key_matrix)  # Menggunakan matriks kunci yang sama\n",
        "print(\"Hasil Dekripsi:\")\n",
        "print(decrypt_text)\n"
      ],
      "metadata": {
        "colab": {
          "base_uri": "https://localhost:8080/"
        },
        "id": "Nj4U_NrgfSz0",
        "outputId": "173203ff-31f1-4533-c4e9-ff2ee9203502"
      },
      "execution_count": 9,
      "outputs": [
        {
          "output_type": "stream",
          "name": "stdout",
          "text": [
            "Hasil Dekripsi:\n",
            "femmjpergj\n"
          ]
        }
      ]
    },
    {
      "cell_type": "markdown",
      "source": [
        "## **Rekap Output Program**"
      ],
      "metadata": {
        "id": "KKOWpncCiMMU"
      }
    },
    {
      "cell_type": "code",
      "source": [
        "print(\"Plaintext Awal:\")\n",
        "print(plain_text)\n",
        "print(\"\\nPlaintext setelah sesuai prinsip playfair chiper:\")\n",
        "print(prepared_text)\n",
        "print(\"\\nKunci:\")\n",
        "print(key)\n",
        "print(\"\\nMatriks Kunci:\")\n",
        "display_matrix(key_matrix)\n",
        "print(\"==============================\")\n",
        "print(\"\\nChiper Text : \")\n",
        "print(cipher_text)\n",
        "\n",
        "print(\"\\nDecrypt Text : \")\n",
        "print(decrypt_text)"
      ],
      "metadata": {
        "colab": {
          "base_uri": "https://localhost:8080/"
        },
        "id": "qvYZmhhZibiX",
        "outputId": "965af494-c8a3-4853-cae7-bc1a48bafb17"
      },
      "execution_count": 10,
      "outputs": [
        {
          "output_type": "stream",
          "name": "stdout",
          "text": [
            "Plaintext Awal:\n",
            "femmi pergi\n",
            "\n",
            "Plaintext setelah sesuai prinsip playfair chiper:\n",
            "femzmipergiz\n",
            "\n",
            "Kunci:\n",
            "kuliah\n",
            "\n",
            "Matriks Kunci:\n",
            "k u l i a\n",
            "h b c d e\n",
            "f g m n o\n",
            "p q r s t\n",
            "v w x y z\n",
            "==============================\n",
            "\n",
            "Chiper Text : \n",
            "ohoxnlthqmay\n",
            "\n",
            "Decrypt Text : \n",
            "femmjpergj\n"
          ]
        }
      ]
    }
  ]
}