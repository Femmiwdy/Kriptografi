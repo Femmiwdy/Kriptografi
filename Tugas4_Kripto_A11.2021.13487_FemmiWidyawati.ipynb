{
  "nbformat": 4,
  "nbformat_minor": 0,
  "metadata": {
    "colab": {
      "provenance": [],
      "include_colab_link": true
    },
    "kernelspec": {
      "name": "python3",
      "display_name": "Python 3"
    },
    "language_info": {
      "name": "python"
    }
  },
  "cells": [
    {
      "cell_type": "markdown",
      "metadata": {
        "id": "view-in-github",
        "colab_type": "text"
      },
      "source": [
        "<a href=\"https://colab.research.google.com/github/Femmiwdy/Kriptografi/blob/main/Tugas4_Kripto_A11.2021.13487_FemmiWidyawati.ipynb\" target=\"_parent\"><img src=\"https://colab.research.google.com/assets/colab-badge.svg\" alt=\"Open In Colab\"/></a>"
      ]
    },
    {
      "cell_type": "markdown",
      "source": [
        "Nama : Femmi Widyawati     \n",
        "NIM : A11.2021.13487                         \n",
        "Kelas : A11.4329                                                                                                                         \n",
        "Mata Kuliah : Kriptografi\n",
        "\n"
      ],
      "metadata": {
        "id": "WdEJWWR8jxtb"
      }
    },
    {
      "cell_type": "markdown",
      "source": [
        "### ***1. Instal paket secretpy sebagai penyedia teknik kriptografi ***"
      ],
      "metadata": {
        "id": "JiYhM4c4m00B"
      }
    },
    {
      "cell_type": "code",
      "source": [
        "pip install secretpy"
      ],
      "metadata": {
        "colab": {
          "base_uri": "https://localhost:8080/"
        },
        "id": "wZPHY3VonIGj",
        "outputId": "8dd0b5f3-be36-4141-82fb-df65702b7c14"
      },
      "execution_count": 1,
      "outputs": [
        {
          "output_type": "stream",
          "name": "stdout",
          "text": [
            "Collecting secretpy\n",
            "  Downloading secretpy-0.12.0-py2.py3-none-any.whl (41 kB)\n",
            "\u001b[?25l     \u001b[90m━━━━━━━━━━━━━━━━━━━━━━━━━━━━━━━━━━━━━━━━\u001b[0m \u001b[32m0.0/41.1 kB\u001b[0m \u001b[31m?\u001b[0m eta \u001b[36m-:--:--\u001b[0m\r\u001b[2K     \u001b[90m━━━━━━━━━━━━━━━━━━━━━━━━━━━━━━━━━━━━━━━━\u001b[0m \u001b[32m41.1/41.1 kB\u001b[0m \u001b[31m1.3 MB/s\u001b[0m eta \u001b[36m0:00:00\u001b[0m\n",
            "\u001b[?25hInstalling collected packages: secretpy\n",
            "Successfully installed secretpy-0.12.0\n"
          ]
        }
      ]
    },
    {
      "cell_type": "markdown",
      "source": [
        "### **2. Mengimport library pada phyton**\n",
        "- itertools (dengan repeat): Digunakan\n",
        "untuk mengulangi elemen dalam urutan.\n",
        "\n",
        "- secretpy (alfabet): Menyediakan akses ke berbagai jenis alfabet atau abjad.\n",
        "\n",
        "- numpy: Untuk operasi matematis pada data dalam bentuk matriks atau array.\n",
        "\n",
        "- string: Mengimpor konstanta karakter seperti huruf kecil, huruf besar, angka, dan tanda baca.\n",
        "\n",
        "- random: Digunakan untuk menghasilkan nilai acak.\n",
        "\n",
        "- collections (dengan Counter): Digunakan untuk menghitung kemunculan elemen dalam urutan, berguna untuk analisis huruf dalam kunci atau pesan terenkripsi dalam kriptografi.\n"
      ],
      "metadata": {
        "id": "_yicQDaznWd0"
      }
    },
    {
      "cell_type": "code",
      "source": [
        "from itertools import repeat\n",
        "from secretpy import alphabets as al\n",
        "import numpy as np, string, random\n",
        "from collections import Counter"
      ],
      "metadata": {
        "id": "vtYfYe9Bnpet"
      },
      "execution_count": 2,
      "outputs": []
    },
    {
      "cell_type": "markdown",
      "source": [
        "### **3. Membuat program untuk enkripsi atau dekripsi**\n",
        "Memilih dari menu yang disediakan terdapat enkripsi dan dekripsi\n",
        "\n",
        "**Jika pilih (menu a)**, maka teks plainteks dan kunci akan dimasukkan.\n",
        "- Kunci akan diurutkan sesuai dengan urutan karakter dalam alfabet dan kemudian dilakukan penghitungan terhadap munculnya karakter yang sama dalam kunci.\n",
        "- Hasil pengurutan kunci dan informasi jumlah kemunculan karakter disimpan.\n",
        "- Teks plainteks akan dibagi menjadi blok seukuran kunci, dan karakter acak ditambahkan jika perlu.\n",
        "- Enkripsi dilakukan dengan menggabungkan karakter dari setiap kolom sesuai dengan urutan kunci yang sudah diurutkan.\n",
        "- Hasil enkripsi ditampilkan sebagai teks terenkripsi.\n",
        "\n",
        "**Jika pilih (menu b)**  maka teks chiperteks dan kunci akan dimasukkan.\n",
        "- Mengurutkan karakter terenkripsi sesuai dengan urutan kunci yang sama dengan saat enkripsi\n",
        "-  Hasil dekripsi ditampilkan sebagai teks plainteks\n"
      ],
      "metadata": {
        "id": "8nvil_FenvRN"
      }
    },
    {
      "cell_type": "code",
      "source": [
        "print(\"Menu program implementasi Transposisi myszkowsk\")\n",
        "print(\" [a] Enkripsi\") #jika akan memilih enkripsi pilih menu a\n",
        "print(\" [b] Dekripsi\") #jika akan memilih enkripsi pilih menu b\n",
        "na = 0\n",
        "while na==0:\n",
        "    pilih = input(\"Pilih menu: \")\n",
        "\n",
        "    #algoritma jika memilih menu a\n",
        "    if pilih == \"a\":\n",
        "            na=1\n",
        "            #input teks yang akan dienkripsi\n",
        "            teks = input(\"\\nMasukkan plainteks yang ingin dienkripsi: \")\n",
        "            teks = teks.replace(\" \", \"\") #spasi akan dihapus\n",
        "            teks = teks.upper() #mengganti ke huruf kapital semua\n",
        "\n",
        "            #input kunci yag digunakan\n",
        "            kunci = input(\"Masukkan kunci: \")\n",
        "            kunci = list(kunci.upper())\n",
        "            sortkunci = []\n",
        "            sortkunci.append(kunci)\n",
        "            sortkunci.append([]) #menyiapkan variabel kunci yang diurutkan\n",
        "            i = 0\n",
        "            #perulangan untuk pengurutan kunci\n",
        "            while i<len(kunci):\n",
        "                sortkunci[1].append(i+1)\n",
        "                i+=1 #+1 setiap kali iterasi perulangan berjalan, sehingga pada setiap iterasi, nomor urut karakter dalam kunci bertambah.\n",
        "            sortkunci = np.array(sortkunci) #sortkunci diubah menjadi array NumPy\n",
        "            newsortkunci = sortkunci [ :, sortkunci[0].argsort()]\n",
        "            sortkunci = newsortkunci.tolist()\n",
        "            sortkunci.append([])\n",
        "            #menghitung berapa kali setiap karakter muncul dalam kunci yang sudah diurutkan\n",
        "            hitung = Counter(sortkunci[0])\n",
        "            i = 0\n",
        "            n = 1\n",
        "            while i<len(kunci):\n",
        "                if hitung[sortkunci[0][i]]>1:\n",
        "                    for j in range(hitung[sortkunci[0][i]]):\n",
        "                        sortkunci[2].append(n)\n",
        "                    i+=(hitung[sortkunci[0][i]]-1)\n",
        "                else:\n",
        "                    sortkunci[2].append(n)\n",
        "                n+=1\n",
        "                i+=1\n",
        "            sortkunci = np.array(sortkunci)\n",
        "            newsortkunci = sortkunci [ :, sortkunci[1].argsort()]\n",
        "            #mencetak hasil pengurutan kunci\n",
        "            print(\"=================\")\n",
        "            print(\"Kunci : \")\n",
        "            print(\"->\"+np.array2string(newsortkunci[2],formatter={'str_kind': lambda x: x},separator=' ')[1:-1])\n",
        "            enkripsi = []\n",
        "            enkripsi.append(kunci)\n",
        "            for i in range (0, len(teks), len(kunci)):\n",
        "                x = teks[i:i+len(kunci)]\n",
        "                x = list(x)\n",
        "                enkripsi.append(x)\n",
        "          # Loop digunakan untuk memastikan panjang teks yang akan dienkripsi sesuai dengan panjang kunci.\n",
        "          # Jika panjang teks kurang dari panjang kunci, maka karakter acak string.ascii_uppercase akan ditambahkan\n",
        "          # Hingga panjangnya sama dengan panjang kunci.\n",
        "            while len(enkripsi[len(enkripsi)-1])<len(kunci):\n",
        "                enkripsi[len(enkripsi)-1].append(random.choice(string.ascii_uppercase))\n",
        "            enkripsi = np.array(enkripsi)\n",
        "            #menampilkan hasil kunci karakter tambahan\n",
        "            print(\" \"+np.array2string(enkripsi[1:len(enkripsi)],formatter={'str_kind': lambda x: x},separator=' ')[1:-1])\n",
        "            newenkripsi = enkripsi [ :, enkripsi[0].argsort()]\n",
        "            #Menghitung berapa kali setiap karakter dalam kunci muncul dalam newnkripsi\n",
        "            hitung = Counter(newenkripsi[0])\n",
        "            hasil = []\n",
        "            i = 0\n",
        "            #memeriksa apakah karakter yang sedang diproses memiliki kemunculan sesuai yang diitung\n",
        "            while i < len(newenkripsi[0]):\n",
        "                if hitung[newenkripsi[0][i]] == 1:\n",
        "                  #ika frekuensinya satu, artinya karakter tersebut tidak memiliki karakter ganda dalam kunci\n",
        "                    for j in range(1, len(newenkripsi)):\n",
        "                        hasil.append(newenkripsi[j][i])\n",
        "                else: #ika frekuensinya lebih dari satu maka kita perlu menggabungkan karakter-karakter tersebut dengan benar\n",
        "                    for j in range(1, len(newenkripsi)):\n",
        "                        for k in range(i, hitung[newenkripsi[0][i]] + i):\n",
        "                            hasil.append(newenkripsi[j][k])\n",
        "                    i += (hitung[newenkripsi[0][i]] - 1)\n",
        "                i += 1\n",
        "            #mencetak hasil enkripsi\n",
        "            print(\"\\nHasil enkripsi =\", end=' ')\n",
        "            for i in range(len(hasil)):\n",
        "                print(hasil[i], end='')\n",
        "                if (i + 1) % (len(newenkripsi) - 1) == 0:\n",
        "                    print(\" \", end='')\n",
        "\n",
        "    #algoritma jika memilih menu b\n",
        "    elif pilih == \"b\":\n",
        "            na=2\n",
        "             #input teks yang akan didekripsi\n",
        "            teks = input(\"\\nMasukkan chipertext yang akan didekripsi: \")\n",
        "            teks = teks.replace(\" \", \"\")  #spasi akan dihapus\n",
        "            teks = list(teks.upper()) #mengganti ke huruf kapital semua\n",
        "\n",
        "            kunci = input(\"Masukkan kunci: \")\n",
        "            kunci = list(kunci.upper()) #mengganti ke huruf kapital semua\n",
        "            sortkunci = []\n",
        "            sortkunci.append(kunci)\n",
        "            sortkunci.append([]) #menyiapkan variabel kunci yang diurutkan\n",
        "            i = 0\n",
        "            #perulangan untuk pengurutan kunci\n",
        "            while i<len(kunci):\n",
        "                sortkunci[1].append(i+1)\n",
        "                i+=1  #+1 setiap kali iterasi perulangan berjalan, sehingga pada setiap iterasi, nomor urut karakter dalam kunci bertambah.\n",
        "            sortkunci = np.array(sortkunci) #sortkunci diubah menjadi array NumPy\n",
        "            newsortkunci = sortkunci [ :, sortkunci[0].argsort()]\n",
        "            sortkunci = newsortkunci.tolist()\n",
        "            sortkunci.append([])\n",
        "            #menghitung berapa kali setiap karakter muncul dalam kunci yang sudah diurutkan\n",
        "            hitung = Counter(sortkunci[0])\n",
        "            i = 0\n",
        "            n = 1\n",
        "            while i<len(kunci):\n",
        "                if hitung[sortkunci[0][i]]>1:\n",
        "                    for j in range(hitung[sortkunci[0][i]]):\n",
        "                        sortkunci[2].append(n)\n",
        "                    i+=(hitung[sortkunci[0][i]]-1)\n",
        "                else:\n",
        "                    sortkunci[2].append(n)\n",
        "                n+=1\n",
        "                i+=1\n",
        "            sortkunci = np.array(sortkunci)\n",
        "            newsortkunci = sortkunci [ :, sortkunci[1].argsort()]\n",
        "            #mencetak hasil pengurutan kunci\n",
        "            print(\"=================\")\n",
        "            print(\"Kunci : \")\n",
        "            print(\"->\"+np.array2string(newsortkunci[2],formatter={'str_kind': lambda x: x},separator=' ')[1:-1])\n",
        "            dekripsi = []\n",
        "            dekripsi.append(kunci) #Pertama, kunci disimpan di dalamnya\n",
        "            dekripsi.append([])\n",
        "            i = 0\n",
        "            while i<len(kunci):\n",
        "                dekripsi[1].append(i+1)\n",
        "                i+=1\n",
        "            dekripsi = np.array(dekripsi)\n",
        "            newdekripsi = dekripsi [ :, dekripsi[0].argsort()]\n",
        "            dekripsi = newdekripsi.tolist() #kemudian indeks kolom-kolom kunci juga disimpan di dalamnya\n",
        "            for i in range(int(len(teks)/len(kunci))): #ddigunakan untuk membuat baris kosong\n",
        "                dekripsi.append([])\n",
        "            hitung = Counter(dekripsi[0]) #Menghitung Jumlah Kemunculan Huruf dalam Kunci\n",
        "            indeks = 0\n",
        "            i = 0\n",
        "            while i<len(kunci):\n",
        "              #jika huruf yang muncul lebih dari sekali, loop akan menjalankan iterasi dari\n",
        "                if hitung[dekripsi[0][i]]>1:\n",
        "                    for k in range(2,int((len(teks)/len(kunci))+2)):\n",
        "                        for j in range(hitung[dekripsi[0][i]]):\n",
        "                            dekripsi[k].append(teks[indeks])\n",
        "                            indeks+=1\n",
        "                    i+=(hitung[dekripsi[0][i]]-1)\n",
        "                else:\n",
        "                    for k in range(2, int((len(teks) / len(kunci)) + 2)):\n",
        "                        dekripsi[k].append(teks[indeks])\n",
        "                        indeks+=1\n",
        "                i+=1\n",
        "            #Mengurutkan Hasil DekripsiMengurutkan Hasil Dekripsi\n",
        "            dekripsi = np.array(dekripsi)\n",
        "            hasil = dekripsi [ :, dekripsi[1].argsort()]\n",
        "            #Mencetak hasil dekripsi\n",
        "            print(\" \"+np.array2string(hasil[2:len(hasil)],formatter={'str_kind': lambda x: x},separator=' ')[1:-1])\n",
        "            print(\"\\nHasil dekripsi =\", end=' ')\n",
        "            for i in range(2,len(hasil)):\n",
        "                for j in range(len(hasil[0])):\n",
        "                    print(hasil[i][j], end='')\n",
        "    else:\n",
        "            print(\"!! Silakan masukkan pilihan yang sesuai (a/b) !!\")\n"
      ],
      "metadata": {
        "colab": {
          "base_uri": "https://localhost:8080/"
        },
        "id": "71dn1k4dn5vj",
        "outputId": "bb9f5cb5-cd9a-44ba-d1ee-57a7a6621de1"
      },
      "execution_count": 4,
      "outputs": [
        {
          "output_type": "stream",
          "name": "stdout",
          "text": [
            "Menu program implementasi Transposisi myszkowsk\n",
            " [a] Enkripsi\n",
            " [b] Dekripsi\n",
            "Pilih menu: b\n",
            "\n",
            "Masukkan chipertext yang akan didekripsi: femmi widyawati\n",
            "Masukkan kunci: belanja\n",
            "=================\n",
            "Kunci : \n",
            "->2 3 5 1 6 4 1\n",
            " [I I W F T Y E]\n",
            " [W D A M I A M]\n",
            "\n",
            "Hasil dekripsi = IIWFTYEWDAMIAM"
          ]
        }
      ]
    }
  ]
}