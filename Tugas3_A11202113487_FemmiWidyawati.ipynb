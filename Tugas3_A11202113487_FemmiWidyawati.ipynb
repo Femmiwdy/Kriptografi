{
  "nbformat": 4,
  "nbformat_minor": 0,
  "metadata": {
    "colab": {
      "provenance": [],
      "authorship_tag": "ABX9TyMQcrr0Foz3OXCpXaTjMuN/",
      "include_colab_link": true
    },
    "kernelspec": {
      "name": "python3",
      "display_name": "Python 3"
    },
    "language_info": {
      "name": "python"
    }
  },
  "cells": [
    {
      "cell_type": "markdown",
      "metadata": {
        "id": "view-in-github",
        "colab_type": "text"
      },
      "source": [
        "<a href=\"https://colab.research.google.com/github/Femmiwdy/Kriptografi/blob/main/Tugas3_A11202113487_FemmiWidyawati.ipynb\" target=\"_parent\"><img src=\"https://colab.research.google.com/assets/colab-badge.svg\" alt=\"Open In Colab\"/></a>"
      ]
    },
    {
      "cell_type": "code",
      "execution_count": null,
      "metadata": {
        "id": "B8Pfd5HYXwha"
      },
      "outputs": [],
      "source": [
        "# Fungsi untuk mengganti 'J' dengan 'I' dalam plaintext\n",
        "def prepare_plaintext(plaintext):\n",
        "    plaintext = plaintext.replace('J', 'I')\n",
        "    plaintext = ''.join(filter(str.isalpha, plaintext))  # Hilangkan karakter non-huruf\n",
        "    return plaintext\n",
        "\n",
        "# Fungsi untuk persiapan kunci\n",
        "def prepare_key(key):\n",
        "    key = key.replace('J', 'I')\n",
        "    key = ''.join(filter(str.isalpha, key))  # Hilangkan karakter non-huruf\n",
        "    key = \"\".join(dict.fromkeys(key))  # Hilangkan duplikasi huruf\n",
        "    key += \"ABCDEFGHIKLMNOPQRSTUVWXYZ\"[:25 - len(key)]  # Tambahkan huruf lain jika perlu\n",
        "\n",
        "    # Bentuk matriks 5x5\n",
        "    matrix = [[0] * 5 for _ in range(5)]\n",
        "    k = 0\n",
        "    for i in range(5):\n",
        "        for j in range(5):\n",
        "            matrix[i][j] = key[k]\n",
        "            k += 1\n",
        "    return matrix\n",
        "\n",
        "# Fungsi untuk mencari posisi huruf dalam matriks 5x5\n",
        "def find_position(matrix, letter):\n",
        "    for i in range(5):\n",
        "        for j in range(5):\n",
        "            if matrix[i][j] == letter:\n",
        "                return (i, j)\n",
        "\n",
        "# Fungsi enkripsi dengan Playfair Cipher\n",
        "def playfair_encrypt(plaintext, key):\n",
        "    plaintext = prepare_plaintext(plaintext)\n",
        "    key_matrix = prepare_key(key)\n",
        "\n",
        "    ciphertext = \"\"\n",
        "    i = 0\n",
        "\n",
        "    while i < len(plaintext):\n",
        "        char1 = plaintext[i]\n",
        "        char2 = plaintext[i + 1]\n",
        "        row1, col1 = find_position(key_matrix, char1)\n",
        "        row2, col2 = find_position(key_matrix, char2)\n",
        "\n",
        "        if row1 == row2:\n",
        "            ciphertext += key_matrix[row1][(col1 + 1) % 5]\n",
        "            ciphertext += key_matrix[row2][(col2 + 1) % 5]\n",
        "        elif col1 == col2:\n",
        "            ciphertext += key_matrix[(row1 + 1) % 5][col1]\n",
        "            ciphertext += key_matrix[(row2 + 1) % 5][col2]\n",
        "        else:\n",
        "            ciphertext += key_matrix[row1][col2]\n",
        "            ciphertext += key_matrix[row2][col1]\n",
        "\n",
        "        i += 2\n",
        "\n",
        "    return ciphertext\n",
        "\n",
        "# Input plaintext dan kunci\n",
        "plaintext = input(\"Masukkan plaintext (1 kalimat panjang): \").upper()\n",
        "key = input(\"Masukkan kunci (1 kalimat panjang): \").upper()\n",
        "\n",
        "# Enkripsi plaintext dengan Playfair Cipher\n",
        "ciphertext = playfair_encrypt(plaintext, key)\n",
        "\n",
        "print(\"Ciphertext: \", ciphertext)\n"
      ]
    }
  ]
}