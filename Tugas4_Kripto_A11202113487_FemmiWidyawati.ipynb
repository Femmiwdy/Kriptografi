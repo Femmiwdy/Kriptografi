{
  "nbformat": 4,
  "nbformat_minor": 0,
  "metadata": {
    "colab": {
      "provenance": [],
      "authorship_tag": "ABX9TyP3pC0vF4TL1L30rfMIJkJS",
      "include_colab_link": true
    },
    "kernelspec": {
      "name": "python3",
      "display_name": "Python 3"
    },
    "language_info": {
      "name": "python"
    }
  },
  "cells": [
    {
      "cell_type": "markdown",
      "metadata": {
        "id": "view-in-github",
        "colab_type": "text"
      },
      "source": [
        "<a href=\"https://colab.research.google.com/github/Femmiwdy/Kriptografi/blob/main/Tugas4_Kripto_A11202113487_FemmiWidyawati.ipynb\" target=\"_parent\"><img src=\"https://colab.research.google.com/assets/colab-badge.svg\" alt=\"Open In Colab\"/></a>"
      ]
    },
    {
      "cell_type": "code",
      "execution_count": null,
      "metadata": {
        "id": "2ILiE9UIb2Er"
      },
      "outputs": [],
      "source": [
        "def find_key_order(key):\n",
        "    # Menghapus karakter duplikat dari kunci dan mengurutkannya\n",
        "    key = \"\".join(sorted(set(key), key=lambda x: key.index(x)))\n",
        "    return key\n",
        "\n",
        "def encrypt_myszkowski(plaintext, key):\n",
        "    key_order = find_key_order(key)\n",
        "    key_length = len(key_order)\n",
        "    plaintext = plaintext.replace(\" \", \"\").upper()  # Menghapus spasi dan ubah ke huruf besar\n",
        "\n",
        "    # Menginisialisasi matriks kosong untuk penyimpanan ciphertext\n",
        "    rows = len(plaintext) // key_length\n",
        "    if len(plaintext) % key_length != 0:\n",
        "        rows += 1\n",
        "    matrix = [[\"\" for _ in range(key_length)] for _ in range(rows)]\n",
        "\n",
        "    # Mengisi matriks dengan plaintext\n",
        "    index = 0\n",
        "    for row in range(rows):\n",
        "        for col in range(key_length):\n",
        "            if index < len(plaintext):\n",
        "                matrix[row][col] = plaintext[index]\n",
        "                index += 1\n",
        "\n",
        "    # Membangun ciphertext dengan mengikuti urutan abjad kunci\n",
        "    ciphertext = \"\"\n",
        "    for k in key_order:\n",
        "        col = key.index(k)\n",
        "        for row in range(rows):\n",
        "            ciphertext += matrix[row][col]\n",
        "\n",
        "    return ciphertext\n",
        "\n",
        "# Input plaintext dan kunci\n",
        "plaintext = input(\"Masukkan plaintext: \")\n",
        "key = input(\"Masukkan kunci: \")\n",
        "\n",
        "# Enkripsi dan output ciphertext\n",
        "ciphertext = encrypt_myszkowski(plaintext, key)\n",
        "print(\"Ciphertext:\", ciphertext)\n"
      ]
    }
  ]
}