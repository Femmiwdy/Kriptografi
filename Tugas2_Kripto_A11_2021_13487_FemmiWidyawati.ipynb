{
  "nbformat": 4,
  "nbformat_minor": 0,
  "metadata": {
    "colab": {
      "provenance": [],
      "authorship_tag": "ABX9TyNJ9DHZbDGD/ea7EUQRSzTO",
      "include_colab_link": true
    },
    "kernelspec": {
      "name": "python3",
      "display_name": "Python 3"
    },
    "language_info": {
      "name": "python"
    }
  },
  "cells": [
    {
      "cell_type": "markdown",
      "metadata": {
        "id": "view-in-github",
        "colab_type": "text"
      },
      "source": [
        "<a href=\"https://colab.research.google.com/github/Femmiwdy/Kriptografi/blob/main/Tugas2_Kripto_A11_2021_13487_FemmiWidyawati.ipynb\" target=\"_parent\"><img src=\"https://colab.research.google.com/assets/colab-badge.svg\" alt=\"Open In Colab\"/></a>"
      ]
    },
    {
      "cell_type": "markdown",
      "source": [
        "Nama : Femmi Widaywati\n",
        "\n",
        "NIM : A11.221.13487\n",
        "\n",
        "Kelompok : A11.4329\n",
        "\n",
        "Mata Kuliah : Kriptografi"
      ],
      "metadata": {
        "id": "-RjZ9z957wk-"
      }
    },
    {
      "cell_type": "code",
      "execution_count": 2,
      "metadata": {
        "id": "IKtnCCIu7oM5"
      },
      "outputs": [],
      "source": [
        "#Membuat fungsi remove_duplicates untuk menghapus karakter duplikat dari teks\n",
        "\n",
        "def remove_duplicates(text):\n",
        "    return ''.join(sorted(set(text), key=text.index))"
      ]
    },
    {
      "cell_type": "code",
      "source": [
        "#Membuat fungsi add_missing_letters untuk menambahkan huruf-huruf yang belum ada dalam kunci\n",
        "\n",
        "def add_missing_letters(text, key):\n",
        "    alphabet = 'abcdefghijklmnopqrstuvwxyz' #seluruh huruf\n",
        "    #diperiksa apakah huruf sudah ada pada kunci, jika tidak ada dimasukkan ke list\n",
        "    missing_letters = [letter for letter in alphabet if letter not in key]\n",
        "    return key + ''.join(missing_letters)"
      ],
      "metadata": {
        "id": "qE21Lc5A9SxO"
      },
      "execution_count": 3,
      "outputs": []
    },
    {
      "cell_type": "code",
      "source": [
        "#Membuat fungsi create_encryption_table untuk membuat tabel enkripsi berdasarkan kunci\n",
        "\n",
        "def create_encryption_table(key):\n",
        "    alphabet = 'abcdefghijklmnopqrstuvwxyz'\n",
        "    table = {} #menyimpan huruf alphabet asli dan key\n",
        "    for i in range(26):\n",
        "        table[alphabet[i]] = key[i]\n",
        "    return table"
      ],
      "metadata": {
        "id": "MOYhZmW29dTF"
      },
      "execution_count": 4,
      "outputs": []
    },
    {
      "cell_type": "code",
      "source": [
        "#Membuat fungsi encrypt_monoalphabetic untuk mengenkripsi plaintext dengan menggunakan tabel enkripsi\n",
        "\n",
        "def encrypt_monoalphabetic(plaintext, key):\n",
        "    table = create_encryption_table(key) #memanggil fungsi tabel enkripsi\n",
        "    #plaintekslower mengubah menjadi huruf kecil\n",
        "    ciphertext = ''.join([table[letter] if letter in table else letter for letter in plaintext.lower()])\n",
        "    return ciphertext"
      ],
      "metadata": {
        "id": "BKT92BF39i9P"
      },
      "execution_count": 5,
      "outputs": []
    },
    {
      "cell_type": "code",
      "source": [
        "#Inputkan plaintext dan kunci dari user, Plaintext yang dimasukkan akan diubah menjadi huruf kecil dan karakter spasi akan dihapus.\n",
        "\n",
        "plaintext = input(\"Plaintext: \").replace(\" \", \"\").lower()\n",
        "key = input(\"Kunci: \").replace(\" \", \"\").lower()"
      ],
      "metadata": {
        "colab": {
          "base_uri": "https://localhost:8080/"
        },
        "id": "smUyjhNu9pgJ",
        "outputId": "4c493d37-506b-43bb-ea38-2298289515c8"
      },
      "execution_count": 6,
      "outputs": [
        {
          "name": "stdout",
          "output_type": "stream",
          "text": [
            "Plaintext: femmi widyawati\n",
            "Kunci: mahasiswi\n"
          ]
        }
      ]
    },
    {
      "cell_type": "code",
      "source": [
        "#Menghilangkan karakter duplikat dari plaintext\n",
        "\n",
        "unique_text = remove_duplicates(plaintext)\n",
        "print(f\"Text setelah menghilangkan duplikasi: {unique_text}\")"
      ],
      "metadata": {
        "colab": {
          "base_uri": "https://localhost:8080/"
        },
        "id": "8O0h5MAI94OZ",
        "outputId": "195b4f63-3fe3-4ca2-b722-a62f442133a1"
      },
      "execution_count": 7,
      "outputs": [
        {
          "output_type": "stream",
          "name": "stdout",
          "text": [
            "Text setelah menghilangkan duplikasi: femiwdyat\n"
          ]
        }
      ]
    },
    {
      "cell_type": "code",
      "source": [
        "#Menambahkan huruf-huruf yang belum ada dalam kunci\n",
        "\n",
        "full_key = add_missing_letters(key, unique_text)\n",
        "print(f\"Text setelah ditambahkan abjad yang belum ada: {full_key}\")"
      ],
      "metadata": {
        "colab": {
          "base_uri": "https://localhost:8080/"
        },
        "id": "2poz-cEe9_IK",
        "outputId": "52e89f28-b332-474c-ef08-8d2174844f29"
      },
      "execution_count": 8,
      "outputs": [
        {
          "output_type": "stream",
          "name": "stdout",
          "text": [
            "Text setelah ditambahkan abjad yang belum ada: femiwdyatbcghjklnopqrsuvxz\n"
          ]
        }
      ]
    },
    {
      "cell_type": "code",
      "source": [
        "#Membuat tabel enkripsi berdasarkan kunci\n",
        "\n",
        "encryption_table = create_encryption_table(full_key)\n",
        "print(\"Tabel enkripsi:\")\n",
        "for letter in encryption_table:\n",
        "    print(f\"{letter} -> {encryption_table[letter]}\")"
      ],
      "metadata": {
        "colab": {
          "base_uri": "https://localhost:8080/"
        },
        "id": "RIQWQQQH-8BO",
        "outputId": "47f0c66e-3a8e-4925-9fc5-5934daa7b70c"
      },
      "execution_count": 9,
      "outputs": [
        {
          "output_type": "stream",
          "name": "stdout",
          "text": [
            "Tabel enkripsi:\n",
            "a -> f\n",
            "b -> e\n",
            "c -> m\n",
            "d -> i\n",
            "e -> w\n",
            "f -> d\n",
            "g -> y\n",
            "h -> a\n",
            "i -> t\n",
            "j -> b\n",
            "k -> c\n",
            "l -> g\n",
            "m -> h\n",
            "n -> j\n",
            "o -> k\n",
            "p -> l\n",
            "q -> n\n",
            "r -> o\n",
            "s -> p\n",
            "t -> q\n",
            "u -> r\n",
            "v -> s\n",
            "w -> u\n",
            "x -> v\n",
            "y -> x\n",
            "z -> z\n"
          ]
        }
      ]
    },
    {
      "cell_type": "code",
      "source": [
        "#Hasil Enkripsi dari Plaintext\n",
        "\n",
        "ciphertext = encrypt_monoalphabetic(plaintext, full_key)\n",
        "print(f\"Hasil Ciphertext: {ciphertext}\")"
      ],
      "metadata": {
        "colab": {
          "base_uri": "https://localhost:8080/"
        },
        "id": "7yaVe4PaIddZ",
        "outputId": "49ef6577-87f0-41bb-b243-9a426adee442"
      },
      "execution_count": 10,
      "outputs": [
        {
          "output_type": "stream",
          "name": "stdout",
          "text": [
            "Hasil Ciphertext: dwhhtutixfufqt\n"
          ]
        }
      ]
    },
    {
      "cell_type": "code",
      "source": [
        "#Membuat fungsi decrypt_monoalphabetic untuk mendekripsi ciphertext dengan menggunakan tabel enkripsi yang sama\n",
        "\n",
        "def decrypt_monoalphabetic(ciphertext, key):\n",
        "    decryption_table = {v: k for k, v in key.items()}\n",
        "    plaintext = ''.join([decryption_table[letter] if letter in decryption_table else letter for letter in ciphertext.lower()])\n",
        "    return plaintext"
      ],
      "metadata": {
        "id": "XN7IABycIj2e"
      },
      "execution_count": 11,
      "outputs": []
    },
    {
      "cell_type": "code",
      "source": [
        "#Hasil Dekripsi dari Chiperteks yang dihasilkan\n",
        "\n",
        "plaintext = decrypt_monoalphabetic(ciphertext, encryption_table)\n",
        "print(f\"Hasil Dekripsi: {plaintext}\")"
      ],
      "metadata": {
        "colab": {
          "base_uri": "https://localhost:8080/"
        },
        "id": "59AokvbcIqC7",
        "outputId": "81691529-e14e-4fb9-cb5b-83c0dd58c454"
      },
      "execution_count": 12,
      "outputs": [
        {
          "output_type": "stream",
          "name": "stdout",
          "text": [
            "Hasil Dekripsi: femmiwidyawati\n"
          ]
        }
      ]
    },
    {
      "cell_type": "code",
      "source": [
        "#REKAP OUTPUT PROGRAM\n",
        "\n",
        "print(f\"Text setelah menghilangkan duplikasi: {unique_text}\")\n",
        "print(f\"Text setelah ditambahkan abjad yang belum ada: {full_key}\")\n",
        "print(\"Tabel enkripsi:\")\n",
        "for letter in encryption_table:\n",
        "    print(f\"{letter} -> {encryption_table[letter]}\")\n",
        "print(f\"Hasil Ciphertext: {ciphertext}\")\n",
        "print(f\"Hasil Dekripsi: {plaintext}\")"
      ],
      "metadata": {
        "colab": {
          "base_uri": "https://localhost:8080/"
        },
        "id": "5azfCBiUIxBd",
        "outputId": "3b448a7c-7c16-4775-edb5-14ef65a9f80b"
      },
      "execution_count": 13,
      "outputs": [
        {
          "output_type": "stream",
          "name": "stdout",
          "text": [
            "Text setelah menghilangkan duplikasi: femiwdyat\n",
            "Text setelah ditambahkan abjad yang belum ada: femiwdyatbcghjklnopqrsuvxz\n",
            "Tabel enkripsi:\n",
            "a -> f\n",
            "b -> e\n",
            "c -> m\n",
            "d -> i\n",
            "e -> w\n",
            "f -> d\n",
            "g -> y\n",
            "h -> a\n",
            "i -> t\n",
            "j -> b\n",
            "k -> c\n",
            "l -> g\n",
            "m -> h\n",
            "n -> j\n",
            "o -> k\n",
            "p -> l\n",
            "q -> n\n",
            "r -> o\n",
            "s -> p\n",
            "t -> q\n",
            "u -> r\n",
            "v -> s\n",
            "w -> u\n",
            "x -> v\n",
            "y -> x\n",
            "z -> z\n",
            "Hasil Ciphertext: dwhhtutixfufqt\n",
            "Hasil Dekripsi: femmiwidyawati\n"
          ]
        }
      ]
    }
  ]
}